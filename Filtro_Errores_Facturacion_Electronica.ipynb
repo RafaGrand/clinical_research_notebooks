{
 "cells": [
  {
   "cell_type": "code",
   "execution_count": null,
   "metadata": {},
   "outputs": [],
   "source": [
    "from IPython.core.interactiveshell import InteractiveShell\n",
    "InteractiveShell.ast_node_interactivity = \"all\"\n",
    "from datetime import datetime\n",
    "import pandas as pd\n",
    "#pd.options.display.max_seq_items = 2000\n",
    "## Usar linea de abajo para mostrar todas las filas de datos sin limitacion \n",
    "pd.set_option('display.max_rows',None) \n",
    "\n",
    "docs_pd = pd.read_csv(\"https://github.com/RafaGrand/clinical_research_notebooks/blob/master/Reporte_Fri%20Sep%2004%2003_06_55%20COT%202020.csv\", sep=';')\n",
    "\n",
    "filter_df = docs_pd[(docs_pd.estado != 'Éxito en la Notificación del Adquiriente') \n",
    "                    & (docs_pd.estado !='Aceptación Tácita') \n",
    "                    & (docs_pd.estado !='Aceptación Adquiriente')\n",
    "                    & (docs_pd.estado !='Error en la Notificación del Adquiriente')]\n",
    "\n",
    "cb_df = filter_df[filter_df['Número Documento'].str.contains(\"CB\")] \n",
    "df_trimmed = cb_df.apply(lambda x: x.str.strip() if x.dtype == \"object\" else x)  # Trim whitespaces\n",
    "\n",
    "#df_trimmed.to_excel (r'C:\\Users\\SOPORTECNSDR\\jupyter\\Dataframes\\facturas_con_error_'+ str(datetime.now().strftime('%Y_%m_%d_%H_%M')) + '.xlsx', index = False, header=True)\n",
    "#df_trimmed.to_excel (r'C:\\Users\\SOPORTECNSDR\\jupyter\\Dataframes\\FE_septiembre'+ str(datetime.now().strftime('%Y_%m_%d_%H_%M')) + '.xlsx', index = False, header=True)\n",
    "\n",
    "df_trimmed.head(2000)"
   ]
  },
  {
   "cell_type": "code",
   "execution_count": null,
   "metadata": {},
   "outputs": [],
   "source": []
  },
  {
   "cell_type": "code",
   "execution_count": null,
   "metadata": {},
   "outputs": [],
   "source": []
  }
 ],
 "metadata": {
  "kernelspec": {
   "display_name": "Python 3",
   "language": "python",
   "name": "python3"
  },
  "language_info": {
   "codemirror_mode": {
    "name": "ipython",
    "version": 3
   },
   "file_extension": ".py",
   "mimetype": "text/x-python",
   "name": "python",
   "nbconvert_exporter": "python",
   "pygments_lexer": "ipython3",
   "version": "3.8.1"
  }
 },
 "nbformat": 4,
 "nbformat_minor": 4
}
