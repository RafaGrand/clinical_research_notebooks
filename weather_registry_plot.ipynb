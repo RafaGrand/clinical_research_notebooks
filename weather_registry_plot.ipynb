{
 "cells": [
  {
   "cell_type": "code",
   "execution_count": null,
   "metadata": {},
   "outputs": [],
   "source": [
    "from IPython.core.interactiveshell import InteractiveShell\n",
    "InteractiveShell.ast_node_interactivity = \"all\"\n",
    "from IPython.display import clear_output\n",
    "import sidetable\n",
    "import plotly.express as px\n",
    "#import plotly.graph_objects as go\n",
    "import pandas as pd\n",
    "import numpy as np\n",
    "pd.set_option('display.max_rows',None)\n",
    "\n",
    "file_path = 'https://github.com/RafaGrand/clinical_research_notebooks/blob/master/Registros_%20temperatura_TI.xlsx'\n",
    "df = pd.concat(pd.read_excel(file_path, sheet_name=None, usecols=[0,1,2,3,4], \n",
    "                             names=['DATE','HOUR','6 FLOOR','3 FLOOR','1 FLOOR']),\n",
    "                             ignore_index=True)\n",
    "\n",
    "\n",
    "fig = px.line(df, x=\"DATE\", y=\"1 FLOOR\", color=\"HOUR\", title='F-TI-003 Registros de temperatura TI - Piso 1',  \n",
    "                 labels={ \"DATE\": \"Fecha\",  \"HOUR\": \"Hora\", \"6 FLOOR\": \"Piso 6 (C°)\", \"3 FLOOR\": \"Piso 3 (C°)\", \"1 FLOOR\": \"Piso 1 (C°)\"}) #, template='plotly_dark')\n",
    "\n",
    "fig.show()\n",
    "\n",
    "fig = px.line(df, x=\"DATE\", y=\"3 FLOOR\", color=\"HOUR\", title='F-TI-003 Registros de temperatura TI - Piso 3',\n",
    "                 labels={ \"DATE\": \"Fecha\",  \"HOUR\": \"Hora\", \"6 FLOOR\": \"Piso 6 (C°)\", \"3 FLOOR\": \"Piso 3 (C°)\", \"1 FLOOR\": \"Piso 1 (C°)\"})\n",
    "fig.show()\n",
    "\n",
    "fig = px.line(df, x=\"DATE\", y=\"6 FLOOR\", color=\"HOUR\", title='F-TI-003 Registros de temperatura TI - Piso 6',\n",
    "                 labels={ \"DATE\": \"Fecha\",  \"HOUR\": \"Hora\", \"6 FLOOR\": \"Piso 6 (C°)\", \"3 FLOOR\": \"Piso 3 (C°)\", \"1 FLOOR\": \"Piso 1 (C°)\"})\n",
    "fig.show()\n",
    ";\n"
   ]
  },
  {
   "cell_type": "code",
   "execution_count": null,
   "metadata": {},
   "outputs": [],
   "source": []
  }
 ],
 "metadata": {
  "kernelspec": {
   "display_name": "Python 3",
   "language": "python",
   "name": "python3"
  },
  "language_info": {
   "codemirror_mode": {
    "name": "ipython",
    "version": 3
   },
   "file_extension": ".py",
   "mimetype": "text/x-python",
   "name": "python",
   "nbconvert_exporter": "python",
   "pygments_lexer": "ipython3",
   "version": "3.8.1"
  }
 },
 "nbformat": 4,
 "nbformat_minor": 4
}
