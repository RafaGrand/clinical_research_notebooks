{
 "cells": [
  {
   "cell_type": "code",
   "execution_count": null,
   "metadata": {},
   "outputs": [],
   "source": [
    "from IPython.core.interactiveshell import InteractiveShell\n",
    "InteractiveShell.ast_node_interactivity = \"all\"\n",
    "import sidetable\n",
    "import plotly.express as px\n",
    "import plotly.graph_objects as go\n",
    "import pandas as pd\n",
    "pd.set_option('display.max_rows',None)\n",
    "  \n",
    "file_path = 'https://github.com/RafaGrand/clinical_research_notebooks/blob/master/censo.xlsx'\n",
    "\n",
    "df = pd.read_excel(file_path, header=0, usecols=[0,4,8,10,11,12], names=['PABELLON','EPS','EDAD','DIAGNOSTICO','FECHA INGRESO','DIAS ESTANCIA'])\n",
    "filter_df = df[df['DIAGNOSTICO'].str.contains(\"Coronavirus\") | df['DIAGNOSTICO'].str.contains(\"COVID\")]\n",
    "filter_df_trimmed = filter_df.apply(lambda x: x.str.strip() if x.dtype == \"object\" else x)  # Trim whitespaces\n",
    "\n",
    "#SideTable\n",
    "Sidetable = filter_df_trimmed.stb.freq(['DIAGNOSTICO'], style=True)\n",
    "Sidetable\n",
    "\n",
    "#Pie Plot\n",
    "i = 0 # Counter\n",
    "\n",
    "for col in df: \n",
    "    values = filter_df_trimmed[col].value_counts()\n",
    "    labels = values.index.unique()\n",
    "    #fig = go.Figure(data=[go.Pie(labels=labels, values=values, title=df.columns[i])])    #plotly go\n",
    "    fig = px.pie(filter_df_trimmed, values=values, names=labels, title=df.columns[i], hole=.3, color_discrete_sequence=px.colors.sequential.Mint)             #plotly express\n",
    "    i = i+1 \n",
    "    fig.show()"
   ]
  },
  {
   "cell_type": "code",
   "execution_count": null,
   "metadata": {},
   "outputs": [],
   "source": []
  }
 ],
 "metadata": {
  "kernelspec": {
   "display_name": "Python 3",
   "language": "python",
   "name": "python3"
  },
  "language_info": {
   "codemirror_mode": {
    "name": "ipython",
    "version": 3
   },
   "file_extension": ".py",
   "mimetype": "text/x-python",
   "name": "python",
   "nbconvert_exporter": "python",
   "pygments_lexer": "ipython3",
   "version": "3.8.1"
  }
 },
 "nbformat": 4,
 "nbformat_minor": 4
}
